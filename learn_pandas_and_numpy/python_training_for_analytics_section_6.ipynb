{
 "cells": [
  {
   "cell_type": "markdown",
   "metadata": {},
   "source": [
    "# Python Training for Analytics: Exercise 6"
   ]
  },
  {
   "cell_type": "markdown",
   "metadata": {},
   "source": [
    "prepared by: Stefanie Molin\n",
    "\n",
    "## Background\n",
    "The purpose of this exercise is to handle a medium-hard use case taken from actual AX work. To do so, I will adapt some exercises from the Problem Sets of my R training: [R Training Using Company Data](https://github.com/stefmolin/R-training-program). We will cover:\n",
    "\n",
    "- Pulling data from Vertica\n",
    "- Manipulating the resulting dataframe\n",
    "- Providing some plots to illustrate the results\n",
    "- Working in a notebook and some markdown\n",
    "- String formatting\n",
    "- Dealing with datetimes\n",
    "\n",
    "## The request\n",
    "The AS wants an analysis of conversions for a specific client. The client is looking into using a 10 hour PC window and has asked about certain products being in the banners, but not being purchased with the same frequency despite being clicked on. In particular, the AS is looking for:\n",
    "\n",
    "1. the percent of conversions since days since last visit\n",
    "2. an analysis of clicked vs. purchased items by click type and device\n",
    "3. post-click conversions on a different lookback by day\n"
   ]
  },
  {
   "cell_type": "markdown",
   "metadata": {},
   "source": [
    "## Requirements\n",
    "Before we can do any analysis, we need to make sure our computers have the appropriate packages installed. For this notebook you will need:\n",
    "\n",
    "- `sqlalchemy`\n",
    "- `sqlalchemy-vertica`\n",
    "- `pandas`\n",
    "- `matplotlib`\n",
    "\n",
    "### sqlalchemy-vertica Installation Troubleshooting\n",
    "If you are unable to install `sqlalchemy-vertica` with `pip` or `conda`, try this:\n",
    "```\n",
    "git clone https://github.com/LocusEnergy/vertica-sqlalchemy\n",
    "cd vertica-sqlalchemy\n",
    "python setup.py install\n",
    "```\n",
    "\n",
    "## Caveats\n",
    "This training will be dealing with specific tickets that have come in for the advertiser AX. We understand that we have AX from various teams completing these trainings, so some of the requests here may seem alien. As such, we trust that you can all write SQL, so feel free to attempt to write the appropriate query, however, you can find the queries in the \"hints\" folder should you need them. For the most part, the first TODO in each mini-exercise will be the query and the remaining 2 will involve manipulating and presenting the data in Python. The idea is to show you some cool tips and tricks that can help you automate your workflow and make reproducible analyses as well as write functions to package up processes allowing you to easily share your work.\n",
    "\n",
    "## Notebook Setup\n",
    "First, we import the modules we will use for this exercise and define a utility function to query Vertica."
   ]
  },
  {
   "cell_type": "code",
   "execution_count": 34,
   "metadata": {},
   "outputs": [],
   "source": [
    "from sqlalchemy import create_engine\n",
    "# must have sqlalchemy-vertica installed\n",
    "import pandas as pd\n",
    "import getpass\n",
    "import matplotlib.pyplot as plt\n",
    "from matplotlib import rcParams\n",
    "from matplotlib.ticker import PercentFormatter\n",
    "\n",
    "# set graph sizes\n",
    "rcParams['figure.figsize'] = [10, 4.8]\n",
    "\n",
    "def query_vertica(query):\n",
    "    '''\n",
    "    This function will query Vertica using SQLAlchemy and return a list of tuples.\n",
    "    You can use the results as is or turn them into a pandas dataframe by using:\n",
    "        df = pd.DataFrame(results, columns=['col_1_name', 'col_2_name', 'etc.'])\n",
    "\n",
    "        Params:\n",
    "            query = String with the query you want to run (you will be prompted for your password)\n",
    "    '''\n",
    "    username = getpass.getuser()\n",
    "    password = getpass.getpass('Vertica password [HIDDEN]: ')\n",
    "    db_uri = 'vertica+vertica_python://{username}:{password}@<vertica_cluster>:<port>/<DB>?ConnectionLoadBalance=true'\\\n",
    "             .format(username=username, password=password)\n",
    "    engine = create_engine(db_uri, echo=False)\n",
    "    results = engine.execute(query).fetchall()\n",
    "    engine.dispose\n",
    "    return results\n"
   ]
  },
  {
   "cell_type": "markdown",
   "metadata": {},
   "source": [
    "Make sure you are able to query Vertica by running a simple query."
   ]
  },
  {
   "cell_type": "code",
   "execution_count": 2,
   "metadata": {},
   "outputs": [
    {
     "name": "stdout",
     "output_type": "stream",
     "text": [
      "   event_id    event_name\n",
      "0         1          Page\n",
      "1         2      Category\n",
      "2         3       Listing\n",
      "3         4  ItemPageView\n",
      "4         5        Basket\n",
      "5         6         Sales\n"
     ]
    }
   ],
   "source": [
    "# make sure it works\n",
    "results = query_vertica(\"SELECT * FROM schema_1.table_1\")\n",
    "df = pd.DataFrame(results, columns=['event_id', 'event_name'])\n",
    "print(df.head(6))"
   ]
  },
  {
   "cell_type": "markdown",
   "metadata": {},
   "source": [
    "## The Analysis\n",
    "We were asked to look into:\n",
    "- the percent of conversions since days since last visit\n",
    "- an analysis of clicked vs. purchased items by click type and device\n",
    "- post-click conversions on a different lookback by day\n",
    "\n",
    "### Percent of Conversions by Days Since Last Visit\n",
    "TODOs:\n",
    "\n",
    "1. Write a query to pull transactions by days since last visit for Macy's campaign 66182.\n",
    "2. Clean up the data to only have entries where the percentage of total transactions is greater than 1%.\n",
    "3. Create a bar plot of the results using the method of your choice."
   ]
  },
  {
   "cell_type": "code",
   "execution_count": 3,
   "metadata": {},
   "outputs": [
    {
     "name": "stdout",
     "output_type": "stream",
     "text": [
      "   days_last_visit  transactions\n",
      "0             92.0             1\n",
      "1            101.0             2\n",
      "2            100.0             2\n",
      "3            114.0             1\n",
      "4             16.0           579\n",
      "Total transactions: 150270\n"
     ]
    }
   ],
   "source": [
    "# TODO 1\n",
    "# query for transactions by days since last visit\n",
    "transactions_query = '''\n",
    "        SELECT\n",
    "            ROUND(days_last_visit, 0) AS days_last_visit\n",
    "            , SUM(transactions) AS transactions\n",
    "        FROM\n",
    "            (SELECT\n",
    "                arbitrage_id\n",
    "                , COUNT(distinct transaction_id) AS transactions\n",
    "            FROM\n",
    "                schema_1.transactions_lookups\n",
    "            WHERE\n",
    "                merchant_id = {partner_id}\n",
    "                AND attribution_type = 'pc'\n",
    "                AND day >= CURRENT_DATE() - 30\n",
    "                AND campaign_id = {campaign_id}\n",
    "            GROUP BY\n",
    "                arbitrage_id) mt\n",
    "        JOIN\n",
    "            (SELECT\n",
    "                arbitrage_id\n",
    "                , days_last_visit\n",
    "            FROM\n",
    "                schema_1.clicks_stats\n",
    "            WHERE\n",
    "                merchant_id = {partner_id}\n",
    "                AND day >= CURRENT_DATE() - 60\n",
    "            GROUP BY\n",
    "                arbitrage_id\n",
    "                , days_last_visit) clk\n",
    "        ON\n",
    "            clk.arbitrage_id = mt.arbitrage_id\n",
    "        GROUP BY\n",
    "            ROUND(days_last_visit, 0)\n",
    "        '''.format(partner_id=1111, campaign_id=9876543)\n",
    "\n",
    "# query for results\n",
    "transactions_results = query_vertica(transactions_query)\n",
    "transactions_dlv = pd.DataFrame(transactions_results,\n",
    "                                columns=['days_last_visit', 'transactions'])\n",
    "\n",
    "# check data\n",
    "print(transactions_dlv.head())\n",
    "print('Total transactions: ' + str(transactions_dlv.transactions.sum()))"
   ]
  },
  {
   "cell_type": "code",
   "execution_count": 4,
   "metadata": {},
   "outputs": [
    {
     "name": "stdout",
     "output_type": "stream",
     "text": [
      "     days_last_visit  transactions  percent_of_total\n",
      "12                 0         49641          0.330345\n",
      "121                1         32077          0.213462\n",
      "99                 2         15452          0.102828\n",
      "115                3         10033          0.066766\n",
      "40                 4          7377          0.049092\n"
     ]
    }
   ],
   "source": [
    "# TODO 2\n",
    "# clean up the data, add percent column, arrange, only >= 1%\n",
    "transactions_dlv = transactions_dlv[transactions_dlv.days_last_visit.between(0, 400, inclusive=True)]\\\n",
    "                   .assign(percent_of_total = transactions_dlv.transactions / transactions_dlv.transactions.sum())\n",
    "transactions_dlv = transactions_dlv[transactions_dlv.percent_of_total >= 0.01].sort_values(by=['days_last_visit'])\n",
    "\n",
    "\n",
    "# make sure the days since last visit is an integer\n",
    "transactions_dlv.days_last_visit = transactions_dlv.days_last_visit.astype(int)\n",
    "\n",
    "print(transactions_dlv.head())"
   ]
  },
  {
   "cell_type": "code",
   "execution_count": 35,
   "metadata": {},
   "outputs": [
    {
     "data": {
      "image/png": "[encoded data removed]",
      "text/plain": [
       "<Figure size 720x345.6 with 1 Axes>"
      ]
     },
     "metadata": {},
     "output_type": "display_data"
    }
   ],
   "source": [
    "# TODO 3\n",
    "axes = transactions_dlv.plot(x='days_last_visit', y='percent_of_total', \n",
    "                             kind='bar', label='percent_of_total', \n",
    "                             colormap='Paired', use_index=True)\n",
    "axes.yaxis.set_major_formatter(PercentFormatter(xmax=1, decimals=0)) # this is one bc they have already been divided\n",
    "plt.title('Percent of Total Sales by Days Since Last Visit')\n",
    "plt.xlabel('Days Since Last Visit')\n",
    "plt.ylabel('Percent of Total Transactions')\n",
    "plt.show()"
   ]
  },
  {
   "cell_type": "markdown",
   "metadata": {},
   "source": [
    "### Clicked vs. Purchased Items by Click Type and Device\n",
    "TODOS:\n",
    "\n",
    "1. Write a query to pull total transactions and total same product (clicked and purchased) by click type (product or logo) and device type.\n",
    "2. Use `pandas` to filter out the logo clicks and calculate the percent of purchased products that were the same as the clicked product.\n",
    "3. Use `matplotlib` or `pandas` to generate a labelled barplot to show your findings."
   ]
  },
  {
   "cell_type": "code",
   "execution_count": 6,
   "metadata": {},
   "outputs": [
    {
     "name": "stdout",
     "output_type": "stream",
     "text": [
      "  click_type       device_type  total_transactions  same_product\n",
      "0       Logo  Desktop - Safari                 691             0\n",
      "1    Product              iPad                5451           695\n",
      "2       Logo           Android                2308             0\n",
      "3    Product           Android               23696          3131\n",
      "4       Logo           Unknown                 232             0\n"
     ]
    }
   ],
   "source": [
    "# TODO 1\n",
    "c_vs_p_query = '''\n",
    "        SELECT\n",
    "            CASE\n",
    "                WHEN clicked_item_id IS NULL THEN 'Logo'\n",
    "                ELSE 'Product'\n",
    "            END AS click_type\n",
    "            , evt2.device_type AS device_type\n",
    "            , COUNT(DISTINCT mt.transaction_id) AS total_transactions\n",
    "            , COUNT(DISTINCT CASE WHEN clicked_item_id = product_internal_id\n",
    "                                  THEN mt.transaction_id ELSE NULL END) AS same_product\n",
    "        FROM\n",
    "            (SELECT\n",
    "                clicked_item_id\n",
    "                , transaction_id\n",
    "            FROM\n",
    "                schema_1.transaction_lookups_granular\n",
    "            WHERE\n",
    "                merchant_id = {partner_id}\n",
    "                AND attribution_type = 'pc'\n",
    "                AND day >= CURRENT_DATE() - 30\n",
    "            GROUP BY\n",
    "                clicked_item_id\n",
    "                , transaction_id) mt\n",
    "        JOIN\n",
    "            (SELECT\n",
    "                transaction_id\n",
    "                , product_internal_id\n",
    "            FROM\n",
    "                schema_1.transaction_lookups\n",
    "            WHERE\n",
    "                day >= CURRENT_DATE() - 30\n",
    "                AND merchant_id = {partner_id}\n",
    "            GROUP BY\n",
    "                transaction_id\n",
    "                , product_internal_id) evt\n",
    "        ON\n",
    "            evt.transaction_id = mt.transaction_id\n",
    "        JOIN\n",
    "            (SELECT\n",
    "                transaction_id\n",
    "                , device_type\n",
    "            FROM\n",
    "                schema_1.events_lookup\n",
    "            WHERE\n",
    "                day >= CURRENT_DATE() - 30\n",
    "                AND merchant_id = {partner_id}\n",
    "                AND event_name_id = 6\n",
    "            GROUP BY\n",
    "                transaction_id\n",
    "                , device_type) evt2\n",
    "        ON\n",
    "            evt2.transaction_id = evt.transaction_id\n",
    "        GROUP BY\n",
    "            CASE\n",
    "                WHEN clicked_item_id IS NULL THEN 'Logo'\n",
    "                ELSE 'Product'\n",
    "            END\n",
    "            , evt2.device_type\n",
    "        '''.format(partner_id=1111)\n",
    "\n",
    "# query for results\n",
    "clicked_vs_purchased_results = query_vertica(c_vs_p_query)\n",
    "clicked_vs_purchased = pd.DataFrame(clicked_vs_purchased_results,\n",
    "                                    columns=['click_type', 'device_type', 'total_transactions', 'same_product'])\n",
    "print(clicked_vs_purchased.head())"
   ]
  },
  {
   "cell_type": "code",
   "execution_count": 7,
   "metadata": {},
   "outputs": [
    {
     "name": "stdout",
     "output_type": "stream",
     "text": [
      "   click_type       device_type  total_transactions  same_product  \\\n",
      "1     Product              iPad                5451           695   \n",
      "3     Product           Android               23696          3131   \n",
      "6     Product  Desktop - Safari                7527          1043   \n",
      "8     Product            iPhone                6177           738   \n",
      "10    Product           Unknown                2630           344   \n",
      "\n",
      "    percent_same  \n",
      "1       0.127500  \n",
      "3       0.132132  \n",
      "6       0.138568  \n",
      "8       0.119475  \n",
      "10      0.130798  \n"
     ]
    }
   ],
   "source": [
    "# TODO 2\n",
    "# filter out the logo clicks and add the column for the graph\n",
    "clicked_vs_purchased = clicked_vs_purchased[clicked_vs_purchased.click_type != 'Logo']\\\n",
    "                       .assign(percent_same = lambda df: df.same_product / df.total_transactions)\n",
    "print(clicked_vs_purchased.head())"
   ]
  },
  {
   "cell_type": "code",
   "execution_count": 36,
   "metadata": {},
   "outputs": [
    {
     "data": {
      "image/png": "[encoded data removed]",
      "text/plain": [
       "<Figure size 720x345.6 with 1 Axes>"
      ]
     },
     "metadata": {},
     "output_type": "display_data"
    }
   ],
   "source": [
    "# TODO 3 using matplotlib\n",
    "# make barplot with matplotlib\n",
    "plt.bar(x=clicked_vs_purchased['device_type'], height=clicked_vs_purchased['percent_same'])\n",
    "plt.title('Percentage Overlap between Clicked and Purchased Products')\n",
    "plt.xlabel('Device')\n",
    "plt.ylabel('Percentage overlap')\n",
    "plt.show()"
   ]
  },
  {
   "cell_type": "code",
   "execution_count": 37,
   "metadata": {},
   "outputs": [
    {
     "data": {
      "image/png": "[encoded data removed]",
      "text/plain": [
       "<Figure size 720x345.6 with 1 Axes>"
      ]
     },
     "metadata": {},
     "output_type": "display_data"
    }
   ],
   "source": [
    "# TODO 3 using pandas\n",
    "axes = clicked_vs_purchased.plot(x='device_type', y='percent_same', \n",
    "                                 kind='bar', label='percent_same', \n",
    "                                 colormap='Paired', use_index=True)\n",
    "axes.yaxis.set_major_formatter(PercentFormatter(xmax=1, decimals=0)) # this is one bc they have already been divided\n",
    "plt.title('Percentage Overlap between Clicked and Purchased Products')\n",
    "plt.xlabel('Device')\n",
    "plt.ylabel('Percentage overlap')\n",
    "plt.show()"
   ]
  },
  {
   "cell_type": "markdown",
   "metadata": {},
   "source": [
    "### Post-click Conversions with a Custom Attribution Window\n",
    "TODOs:\n",
    "\n",
    "1. Write a function to calculate custom attribution by day for a given partner, attribution, start/end date, attribution window in seconds, and deduplication flag.\n",
    "2. Call the function on the client for the last 30 days at 10HR PC with deduplication off.\n",
    "3. Print out the first 7 rows."
   ]
  },
  {
   "cell_type": "code",
   "execution_count": 20,
   "metadata": {},
   "outputs": [],
   "source": [
    "# TODO 1\n",
    "# define the function for querying custom attribution\n",
    "def custom_attribution(partner_id, start_date, end_date, attribution_type, window_seconds, dedup=False):\n",
    "    \"\"\"\n",
    "    Pull custom attribution by day and return a dataframe\n",
    "    \n",
    "    Requires: \n",
    "        pandas installed as pd\n",
    "        query_vertica function\n",
    "    \n",
    "    Params: \n",
    "        partner_id - partner_id of the client\n",
    "        start_date - start_date as a string (inclusive)\n",
    "        end_date - end date as a string (inclusive)\n",
    "        attribution_type - 'pc' or 'pv'\n",
    "        window_seconds - length of the attribution window in seconds\n",
    "        dedup - Boolean indicating whether or not deduplication flag should be used\"\"\"\n",
    "    if dedup:\n",
    "        dedup_clause = \"AND deduplication_matching = 1\"\n",
    "    else:\n",
    "        dedup_clause = \"\"\n",
    "    # base query\n",
    "    query = '''\n",
    "        SELECT\n",
    "            day\n",
    "            , attribution_type\n",
    "            , COUNT(DISTINCT transaction_id) AS numtrans\n",
    "        FROM\n",
    "            schema_1.transactions_lookup_granular\n",
    "        WHERE\n",
    "            merchant_id = {partner_id}\n",
    "            AND attribution_type = '{attribution_type}'\n",
    "            AND day BETWEEN '{end}' AND '{start}'\n",
    "            AND (trans_timestamp - click_timestamp) <= {window}\n",
    "            {dedup_clause}\n",
    "        GROUP BY\n",
    "            day\n",
    "            , attribution_type\n",
    "        ORDER BY\n",
    "            day\n",
    "            , attribution_type\n",
    "        '''.format(partner_id=partner_id, attribution_type=attribution_type,\n",
    "                  start=start_date, end=end_date, window=window_seconds, dedup_clause=dedup_clause)\n",
    "    \n",
    "    results = query_vertica(query)\n",
    "    return pd.DataFrame(results, columns=['day', 'attribution_type', 'numtrans'])"
   ]
  },
  {
   "cell_type": "code",
   "execution_count": 21,
   "metadata": {},
   "outputs": [],
   "source": [
    "# TODO 2\n",
    "# get dates\n",
    "from datetime import datetime, timedelta\n",
    "\n",
    "start_date = datetime.today().strftime('%Y-%m-%d')\n",
    "end_date = (datetime.today() - timedelta(days=30)).strftime('%Y-%m-%d')\n",
    "\n",
    "client_custom_attribution = custom_attribution(5535, start_date, end_date, attribution_type='pc', window_seconds=10*60*60)"
   ]
  },
  {
   "cell_type": "code",
   "execution_count": 22,
   "metadata": {},
   "outputs": [
    {
     "name": "stdout",
     "output_type": "stream",
     "text": [
      "          day attribution_type  numtrans\n",
      "0  2018-02-14               pc      1530\n",
      "1  2018-02-15               pc      1770\n",
      "2  2018-02-16               pc      2143\n",
      "3  2018-02-17               pc      1418\n",
      "4  2018-02-18               pc       988\n",
      "5  2018-02-19               pc      1406\n",
      "6  2018-02-20               pc      1155\n"
     ]
    }
   ],
   "source": [
    "# TODO 3\n",
    "print(client_custom_attribution.head(7))"
   ]
  },
  {
   "cell_type": "markdown",
   "metadata": {},
   "source": [
    "## Congratulations!\n",
    "You did it! Three requests all in one notebook. You can now export this to an HTML or PDF and easily attach to the person who sent you the Jira request. It is easy for them to share with others as well. Don't be afraid to take advantage of adding markdown cells to explain sections and discuss your findings. Keep in mind there are multiple ways to approach a problem like this, so feel free to execute it in a different way. "
   ]
  }
 ],
 "metadata": {
  "kernelspec": {
   "display_name": "Python 3",
   "language": "python",
   "name": "python3"
  },
  "language_info": {
   "codemirror_mode": {
    "name": "ipython",
    "version": 3
   },
   "file_extension": ".py",
   "mimetype": "text/x-python",
   "name": "python",
   "nbconvert_exporter": "python",
   "pygments_lexer": "ipython3",
   "version": "3.6.4"
  }
 },
 "nbformat": 4,
 "nbformat_minor": 2
}
